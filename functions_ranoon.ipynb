{
 "cells": [
  {
   "cell_type": "markdown",
   "id": "1292e527",
   "metadata": {},
   "source": [
    "Modifying Question Paper"
   ]
  },
  {
   "cell_type": "code",
   "execution_count": 1,
   "id": "5121a0bd",
   "metadata": {},
   "outputs": [
    {
     "name": "stdout",
     "output_type": "stream",
     "text": [
      "Requirement already satisfied: opencv-python in f:\\programs\\python\\lib\\site-packages (4.6.0.66)\n",
      "Requirement already satisfied: numpy>=1.19.3 in f:\\programs\\python\\lib\\site-packages (from opencv-python) (1.21.5)\n",
      "Note: you may need to restart the kernel to use updated packages.\n"
     ]
    }
   ],
   "source": [
    "pip install opencv-python\n"
   ]
  },
  {
   "cell_type": "code",
   "execution_count": 2,
   "id": "f95116a2",
   "metadata": {},
   "outputs": [
    {
     "name": "stdout",
     "output_type": "stream",
     "text": [
      "Collecting xlwt\n",
      "  Downloading xlwt-1.3.0-py2.py3-none-any.whl (99 kB)\n",
      "     ------------------------------------ 100.0/100.0 kB 954.7 kB/s eta 0:00:00\n",
      "Installing collected packages: xlwt\n",
      "Successfully installed xlwt-1.3.0\n",
      "Note: you may need to restart the kernel to use updated packages.\n"
     ]
    }
   ],
   "source": [
    "pip install xlwt"
   ]
  },
  {
   "cell_type": "code",
   "execution_count": 103,
   "id": "733ae953",
   "metadata": {},
   "outputs": [
    {
     "name": "stdout",
     "output_type": "stream",
     "text": [
      "The autoreload extension is already loaded. To reload it, use:\n",
      "  %reload_ext autoreload\n"
     ]
    }
   ],
   "source": [
    "import xlwt\n",
    "\n",
    "from commonfunctions import *\n",
    "import numpy as np\n",
    "import pandas as pd\n",
    "import cv2\n",
    "import skimage.io as io\n",
    "import matplotlib.pyplot as plt\n",
    "from skimage.color import rgb2gray\n",
    "from skimage.morphology import binary_erosion, binary_dilation, binary_closing,skeletonize, thin\n",
    "from skimage.measure import find_contours\n",
    "from skimage.draw import rectangle\n",
    "from skimage.transform import resize\n",
    "\n",
    "\n",
    "# Show the figures / plots inside the notebook\n",
    "%matplotlib inline\n",
    "%load_ext autoreload\n",
    "%autoreload"
   ]
  },
  {
   "cell_type": "markdown",
   "id": "95ba733c",
   "metadata": {},
   "source": [
    "get BinaryImg:\n",
    "\n",
    "input: \n",
    "\n",
    "grey img\n",
    "\n",
    "threshold\n",
    "\n",
    "output:\n",
    "\n",
    "binary image"
   ]
  },
  {
   "cell_type": "code",
   "execution_count": 4,
   "id": "fa0270b9",
   "metadata": {},
   "outputs": [],
   "source": [
    "def getBinaryImg(img, thresh):\n",
    "\n",
    "    binary_img = img.copy()\n",
    "    binary_img[binary_img > thresh] = 1\n",
    "    binary_img[binary_img <= thresh] = 0\n",
    "    return binary_img\n",
    "#show_images([getBinaryImg(io.imread('2/1.jpg'), 0.7)])"
   ]
  },
  {
   "cell_type": "markdown",
   "id": "be1e6152",
   "metadata": {},
   "source": [
    "getClosedImg:\n",
    "\n",
    "input:\n",
    "\n",
    "binary img - window size\n",
    "\n",
    "output:\n",
    "\n",
    "closed image"
   ]
  },
  {
   "cell_type": "code",
   "execution_count": 5,
   "id": "0069b327",
   "metadata": {},
   "outputs": [],
   "source": [
    "def getClosedImg(img, win_size):\n",
    "    closed_img = binary_dilation(binary_erosion(img, footprint=win_size), footprint=win_size)\n",
    "    #show_images([closed_img])\n",
    "    return closed_img\n",
    "\n",
    "#binary = getBinaryImg(io.imread('2/1.jpg'), 0.7)\n",
    "#win_size = np.ones((3, 3), dtype=int)\n",
    "#show_images([getClosedImg(binary,win_size)])"
   ]
  },
  {
   "cell_type": "markdown",
   "id": "4b040a71",
   "metadata": {},
   "source": [
    "getAspectRatioContour\n",
    "\n",
    "gets image contour depending on aspect ratio "
   ]
  },
  {
   "cell_type": "code",
   "execution_count": 6,
   "id": "2b8335e2",
   "metadata": {},
   "outputs": [],
   "source": [
    "def getAspectRatioContour(img, thresh = 0.7, win_size =  np.ones((2, 2), dtype=int), lower_aspect = 6, upper_aspect = 10):\n",
    "    binary_img = getBinaryImg(img, thresh)\n",
    "    \n",
    "    closed_img = getClosedImg(binary_img, win_size)\n",
    "    \n",
    "    #show_images([closed_img])\n",
    "    \n",
    "    contour = find_contours(closed_img, 0.8)\n",
    "    #print(contour)\n",
    "    bounding_rects = []\n",
    "    \n",
    "    for rect in contour:\n",
    "        x_min = rect[:, 1].min()\n",
    "        x_max = rect[:, 1].max()\n",
    "        y_min = rect[:, 0].min()\n",
    "        y_max = rect[:, 0].max()\n",
    "        \n",
    "        aspect_ratio = (x_max - x_min) / (y_max - y_min) \n",
    "        area = (x_max - x_min) * (y_max - y_min) \n",
    "        if (lower_aspect < aspect_ratio < upper_aspect) and (300 < area < 9000):\n",
    "            bounding_rects.append([int(x_min), int(x_max), int(y_min), int(y_max)])\n",
    "    bounding_rects = sorted(bounding_rects, key = lambda item: (item[2] + 2*item[0]))\n",
    "    return bounding_rects\n"
   ]
  },
  {
   "cell_type": "markdown",
   "id": "a954be5b",
   "metadata": {},
   "source": [
    "getRectContour:\n",
    "\n",
    "input: grey img, threshold, window size\n",
    "\n",
    "output: array of contours with area as the first element and sorted according to area"
   ]
  },
  {
   "cell_type": "code",
   "execution_count": 7,
   "id": "2366501a",
   "metadata": {},
   "outputs": [],
   "source": [
    "def getRectContour(img, thresh = 0.7, win_size =  np.ones((2, 2), dtype=int), inverse = 0):\n",
    "    binary_img = getBinaryImg(img, thresh)\n",
    "\n",
    "    closed_img = getClosedImg(binary_img, win_size)\n",
    "    \n",
    "    contour = find_contours(closed_img, 0.8)\n",
    "\n",
    "    bounding_rects = []\n",
    "    area = []\n",
    "    \n",
    "    for rect in contour:\n",
    "        x_min = rect[:, 1].min()\n",
    "        x_max = rect[:, 1].max()\n",
    "        y_min = rect[:, 0].min()\n",
    "        y_max = rect[:, 0].max()\n",
    "        \n",
    "        area = (x_max - x_min)*(y_max - y_min)\n",
    "        \n",
    "        aspect_ratio = (x_max - x_min) / (y_max - y_min) \n",
    "        \n",
    "        if aspect_ratio > 1:\n",
    "            bounding_rects.append([int(area),int(x_min), int(x_max), int(y_min), int(y_max)])\n",
    "    \n",
    "    bounding_rects = sorted(bounding_rects, reverse = True)\n",
    "\n",
    "\n",
    "    return bounding_rects\n"
   ]
  },
  {
   "cell_type": "markdown",
   "id": "710ea056",
   "metadata": {},
   "source": [
    "getCVRectContour\n",
    "\n",
    "input: grey img, upper thresh, lower thresh, sigma, windowsize\n",
    "\n",
    "output: array of contours sorted according to area"
   ]
  },
  {
   "cell_type": "code",
   "execution_count": 117,
   "id": "ee4d4543",
   "metadata": {},
   "outputs": [],
   "source": [
    "def getCVRectContour(img, ut = 150,lt = 100,kernel = 3, win_size =  np.ones((3, 3), dtype=int)):\n",
    "\n",
    "    img_blur = cv2.GaussianBlur(img, (kernel, kernel), 7)\n",
    "\n",
    "    img_canny = cv2.Canny(img,lt,ut) \n",
    "\n",
    "    img_dial = cv2.dilate(img_canny, win_size, iterations=2)\n",
    "    img_closed = cv2.erode(img_dial, win_size, iterations=1)\n",
    "    \n",
    "    #show_images([img_blur, img_closed])\n",
    "    contours, heirarchy = cv2.findContours(img_closed, cv2.RETR_EXTERNAL, cv2.CHAIN_APPROX_SIMPLE)\n",
    "    \n",
    "    bounding_rects = []\n",
    "    \n",
    "    for rect in contours:\n",
    "        area = cv2.contourArea(rect)\n",
    "        #print(area)\n",
    "        perimeter = cv2.arcLength(rect, True)\n",
    "        points = cv2.approxPolyDP(rect, 0.02*perimeter, True)\n",
    "        #print(points)\n",
    "        \n",
    "        if (len(points) == 4) and (area > 50):\n",
    "            bounding_rects.append(rect)\n",
    "            \n",
    "    bounding_rects = sorted(bounding_rects, key = cv2.contourArea, reverse = True)    \n",
    "    \n",
    "    return bounding_rects\n",
    "    \n",
    "image = cv2.cvtColor(io.imread('1/4.jpg'), cv2.COLOR_BGR2GRAY)\n",
    "\n",
    "c = getCVRectContour(image)\n",
    "\n"
   ]
  },
  {
   "cell_type": "code",
   "execution_count": 118,
   "id": "a648d576",
   "metadata": {},
   "outputs": [],
   "source": [
    "def getAspectCornerPoints(contour, i,img):\n",
    "    c = contour[i]\n",
    "\n",
    "    points = np.array([[c[0], c[2]],\n",
    "                      [c[1], c[2]],\n",
    "                      [c[1], c[3]],\n",
    "                      [c[0], c[3]]])\n",
    "    \n",
    "    #grey_img = img.copy()\n",
    "    #plt.plot([points[0][0], points[1][0]], [points[0][1], points[1][1]], color = \"black\", linewidth = 1)\n",
    "    #plt.plot([points[1][0], points[2][0]], [points[1][1], points[2][1]], color = \"black\", linewidth = 1)\n",
    "    #plt.plot([points[2][0], points[3][0]], [points[2][1], points[3][1]], color = \"black\", linewidth = 1)\n",
    "    #plt.plot([points[3][0], points[0][0]], [points[3][1], points[0][1]], color = \"black\", linewidth = 1)\n",
    "    #plt.imshow(grey_img)\n",
    "    #plt.show()\n",
    "    \n",
    "    \n",
    "    return points"
   ]
  },
  {
   "cell_type": "markdown",
   "id": "de008e79",
   "metadata": {},
   "source": [
    "getCVCornerPoints\n",
    "\n",
    "input: CVcontour\n",
    "\n",
    "output: cornerpoints"
   ]
  },
  {
   "cell_type": "code",
   "execution_count": 119,
   "id": "4440a6db",
   "metadata": {},
   "outputs": [],
   "source": [
    "def getCVCornerPoints(contour):\n",
    "    perimeter = cv2.arcLength(contour, True)\n",
    "    points = cv2.approxPolyDP(contour, 0.02*perimeter, True)\n",
    "    return points\n",
    "p = getCVCornerPoints(c[0])\n"
   ]
  },
  {
   "cell_type": "markdown",
   "id": "e03a8fc7",
   "metadata": {},
   "source": [
    "getCornerPoints\n",
    "\n",
    "input: contour, index of the largest contour area, image\n",
    "\n",
    "output: corner points"
   ]
  },
  {
   "cell_type": "code",
   "execution_count": 120,
   "id": "aed92bb9",
   "metadata": {},
   "outputs": [],
   "source": [
    "def getCornerPoints(contour, i,img):\n",
    "    c = contour[i][1:5]\n",
    "    #print(c)\n",
    "    points = np.array([[c[0], c[2]],\n",
    "                      [c[1], c[2]],\n",
    "                      [c[1], c[3]],\n",
    "                      [c[0], c[3]]])\n",
    "    #print(img)\n",
    "    grey_img = img.copy()\n",
    "    #plt.plot([points[0][0], points[1][0]], [points[0][1], points[1][1]], color = \"black\", linewidth = 1)\n",
    "    #plt.plot([points[1][0], points[2][0]], [points[1][1], points[2][1]], color = \"black\", linewidth = 1)\n",
    "    #plt.plot([points[2][0], points[3][0]], [points[2][1], points[3][1]], color = \"black\", linewidth = 1)\n",
    "    #plt.plot([points[3][0], points[0][0]], [points[3][1], points[0][1]], color = \"black\", linewidth = 1)\n",
    "    #plt.imshow(grey_img)\n",
    "    #plt.show()\n",
    "    \n",
    "\n",
    "    \n",
    "    #show_images([grey_img])\n",
    "    #print(x1)\n",
    "    return points\n",
    "\n",
    "\n",
    "\n",
    "   "
   ]
  },
  {
   "cell_type": "markdown",
   "id": "674513d1",
   "metadata": {},
   "source": [
    "getOrderedCornerPoints\n",
    "\n",
    "input: points\n",
    "\n",
    "output: ordered points"
   ]
  },
  {
   "cell_type": "code",
   "execution_count": 121,
   "id": "33b36029",
   "metadata": {},
   "outputs": [],
   "source": [
    "def getOrderedCornerPoints(points):\n",
    "    points = points.reshape((4,2))\n",
    "    points_ordered = np.zeros((4,1,2), np.int32)\n",
    "    s = points.sum(1)\n",
    "    diff = np.diff(points, axis = 1)\n",
    "    #print(points)\n",
    "    points_ordered[0] = points[np.argmin(s)]\n",
    "    points_ordered[1] = points[np.argmin(diff)]\n",
    "    points_ordered[2] = points[np.argmax(diff)]\n",
    "    points_ordered[3] = points[np.argmax(s)]\n",
    "    #print(points_ordered)\n",
    "    return points_ordered\n",
    "\n",
    "widthImg = image.shape[0]\n",
    "heightImg = image.shape[1]\n",
    "\n",
    "points = getOrderedCornerPoints(p)\n",
    "\n",
    "p2 = np.float32([[0,0], [widthImg,0], [0,heightImg], [widthImg, heightImg]])\n",
    "p1 = np.float32(points)\n",
    "\n",
    "img = cv2.getPerspectiveTransform(p1, p2)\n",
    "img_warp = cv2.warpPerspective(image,img, (widthImg, heightImg))\n",
    "img_warp = resize(img_warp, (800, 1000))\n",
    "#show_images([img_warp])\n",
    "#print(img_warp)"
   ]
  },
  {
   "cell_type": "markdown",
   "id": "dc937865",
   "metadata": {},
   "source": [
    "getIDRegion:\n",
    "\n",
    "input: warped image - index depending on size of ID\n",
    "\n",
    "output: ID image"
   ]
  },
  {
   "cell_type": "code",
   "execution_count": 124,
   "id": "3a5a921a",
   "metadata": {
    "scrolled": true
   },
   "outputs": [
    {
     "data": {
      "image/png": "[encoded data removed]",
      "text/plain": [
       "<Figure size 432x288 with 1 Axes>"
      ]
     },
     "metadata": {
      "needs_background": "light"
     },
     "output_type": "display_data"
    }
   ],
   "source": [
    "def getIDRegion(img, index = 1):\n",
    "    #img[img > 0.7] = 1\n",
    "    #img[img <= 0.7] = 0\n",
    "    i = img.copy()\n",
    "    i[i > 0.65] = 1\n",
    "    i[i <= 0.65] = 0\n",
    "    i = i[0:250, 80:560]\n",
    "\n",
    "    win_size = np.ones((18, 42), dtype=int)\n",
    "    \n",
    "    c = getRectContour(i, thresh = 0.7, win_size =  win_size)\n",
    "    p = getCornerPoints(c, index,i)\n",
    "    p_ordered = getOrderedCornerPoints(p)\n",
    "    p2 = np.float32([[0,0], [300,0], [0,100], [300, 100]])\n",
    "    p1 = np.float32(p_ordered)\n",
    "    \n",
    "    ID_img = cv2.getPerspectiveTransform(p1, p2)\n",
    "    ID_warp = cv2.warpPerspective(i,ID_img, (300, 100))\n",
    "    \n",
    "    return ID_warp\n",
    "        \n",
    "ID = getIDRegion(img_warp, index = 2)\n",
    "show_images([ID])"
   ]
  },
  {
   "cell_type": "markdown",
   "id": "5dedfd7d",
   "metadata": {},
   "source": [
    "getQuestionRegion"
   ]
  },
  {
   "cell_type": "code",
   "execution_count": 125,
   "id": "ff06f26d",
   "metadata": {},
   "outputs": [],
   "source": [
    "def getQuestionRegion(img, index = 1, mcq = 2):\n",
    "\n",
    "    I = img.copy()\n",
    "    I[I > 0.55] = 1\n",
    "    I[I <= 0.55] = 0\n",
    "\n",
    "    if mcq == 2:\n",
    "        win_size = np.ones((3, 15), dtype=int)\n",
    "        c = getAspectRatioContour(I, thresh = 0.5, win_size =  win_size, lower_aspect = 3.5, upper_aspect = 4.5)\n",
    "    elif mcq == 3:\n",
    "        win_size = np.ones((7, 20), dtype=int)\n",
    "        c = getAspectRatioContour(I, thresh = 0.5, win_size =  win_size, lower_aspect = 5.5, upper_aspect = 7)\n",
    "    elif mcq == 4:\n",
    "        win_size = np.ones((2, 20), dtype=int)\n",
    "        c = getAspectRatioContour(I, thresh = 0.5, win_size =  win_size, lower_aspect = 7, upper_aspect = 10)\n",
    "    elif mcq == 5:\n",
    "        win_size = np.ones((4, 20), dtype=int)\n",
    "        c = getAspectRatioContour(I, thresh = 0.5, win_size =  win_size, lower_aspect = 10, upper_aspect = 20)\n",
    "    #print(c)\n",
    "    p = getAspectCornerPoints(c, index, I)\n",
    "    \n",
    "    p_ordered = getOrderedCornerPoints(p)\n",
    "    \n",
    "    p2 = np.float32([[0,0], [300,0], [0,100], [300, 100]])\n",
    "    p1 = np.float32(p_ordered)\n",
    "    \n",
    "    Q_img = cv2.getPerspectiveTransform(p1, p2)\n",
    "    Q_warp = cv2.warpPerspective(I,Q_img, (300, 100))\n",
    "    \n",
    "    #show_images([Q_warp])\n",
    "    return Q_warp\n",
    "\n",
    "Q = getQuestionRegion(img_warp, index = 0, mcq = 3)"
   ]
  },
  {
   "cell_type": "code",
   "execution_count": 126,
   "id": "e3a4090f",
   "metadata": {},
   "outputs": [
    {
     "data": {
      "image/png": "[encoded data removed]",
      "text/plain": [
       "<Figure size 432x288 with 1 Axes>"
      ]
     },
     "metadata": {
      "needs_background": "light"
     },
     "output_type": "display_data"
    }
   ],
   "source": [
    "def splitrows(img, rowsnum):\n",
    "    rows=[]\n",
    "    Rsections=(100/(rowsnum+1))\n",
    "    extra=Rsections/3\n",
    "    extra=int(extra)\n",
    "    Rsections=int(Rsections)\n",
    "    Rbegin=int(Rsections+extra)\n",
    "    Rend=int(Rbegin+Rsections)\n",
    "    \n",
    "    for i in range (rowsnum):\n",
    "        rows.insert(i,img[Rbegin:Rend, :])\n",
    "        Rbegin=Rend\n",
    "        Rend=Rbegin+Rsections\n",
    "    return rows\n",
    "\n",
    "def splitcolumns(img):\n",
    "    columns=[]\n",
    "    sections=30\n",
    "    begin=0\n",
    "    end=begin+sections\n",
    "    \n",
    "    for i in range (10):\n",
    "        columns.insert(i,img[:,begin:end])\n",
    "        begin=end\n",
    "        end=begin+sections\n",
    "    return columns\n",
    "\n",
    "\n",
    "def getbubble(img,rowsnum):\n",
    "    bubbles=[]\n",
    "    j=0\n",
    "    k=0\n",
    "    for i in range (rowsnum*10):\n",
    "        IDrows = splitrows(img,rowsnum)\n",
    "        IDrow = IDrows[j]\n",
    "        IDcolumns = splitcolumns(IDrow)\n",
    "        IDcolumn = IDcolumns[k]\n",
    "        bubbles.insert(i,IDcolumn)\n",
    "        k=k+1\n",
    "        if (k>9):\n",
    "            j=j+1\n",
    "            k=0\n",
    "    return bubbles\n",
    "\n",
    "\n",
    "rowsnum =2\n",
    "IDbubbles = getbubble(ID,rowsnum)\n",
    "bubblenum = IDbubbles[0]\n",
    "show_images([bubblenum])"
   ]
  },
  {
   "cell_type": "code",
   "execution_count": 127,
   "id": "c0677366",
   "metadata": {},
   "outputs": [
    {
     "name": "stdout",
     "output_type": "stream",
     "text": [
      "[8, 9]\n"
     ]
    }
   ],
   "source": [
    "def getID(rowsnum, IDbubbles):\n",
    "    countC=0\n",
    "    countR=0\n",
    "    errorID=0\n",
    "    sumarray=[]\n",
    "    avgid=[]\n",
    "    errorarr=[]\n",
    "    sumID=0\n",
    "    i=0\n",
    "    pixelval=np.zeros((rowsnum,10))\n",
    "    for images in IDbubbles:\n",
    "        totalpixels=cv2.countNonZero(images)\n",
    "        pixelval[countR][countC]=totalpixels\n",
    "        sumID=sumID+totalpixels\n",
    "        countC+=1\n",
    "        if(countC == 10):\n",
    "            sumarray.insert(i,sumID)\n",
    "            sumID=0\n",
    "            countR+=1\n",
    "            countC=0\n",
    "            i+=1\n",
    "    \n",
    "    for i in range (rowsnum):\n",
    "        avgid.insert(i,int(sumarray[i]/10))\n",
    "        errorarr.insert(i,int(sumarray[i]/120))\n",
    "    \n",
    "    #print(pixelval)\n",
    "    #print(avgid)\n",
    "    \n",
    "    for j in range (rowsnum):\n",
    "        for i in range (10):\n",
    "            if(pixelval[j][i]<(avgid[j]-errorarr[j])):\n",
    "                errorID=errorID+1\n",
    "                \n",
    "    if errorID>(rowsnum):\n",
    "        print(\"wrong ID\")\n",
    "    \n",
    "    arrindex=[]\n",
    "    index=[]\n",
    "    \n",
    "    for x in range (0,rowsnum):\n",
    "        arr=pixelval[x]\n",
    "        index=np.where(arr==np.amin(arr))\n",
    "        arrindex.append(index[0][0])\n",
    "    \n",
    "\n",
    "    return arrindex\n",
    "\n",
    "ID = getID(rowsnum, IDbubbles)\n",
    "print(ID)"
   ]
  },
  {
   "cell_type": "code",
   "execution_count": 128,
   "id": "e50b3718",
   "metadata": {},
   "outputs": [
    {
     "data": {
      "image/png": "[encoded data removed]",
      "text/plain": [
       "<Figure size 432x288 with 1 Axes>"
      ]
     },
     "metadata": {
      "needs_background": "light"
     },
     "output_type": "display_data"
    }
   ],
   "source": [
    "def splitQcolumns(img, colsnum):\n",
    "    cols=[]\n",
    "    Csections=(300/(colsnum))\n",
    "    Csections=int(Csections)\n",
    "    Cbegin=0\n",
    "    Cend=Cbegin+Csections\n",
    "    \n",
    "    for i in range (colsnum):\n",
    "        cols.insert(i,img[:, Cbegin:Cend])\n",
    "        Cbegin=Cend\n",
    "        Cend=Cbegin+Csections\n",
    "    return cols\n",
    "\n",
    "colsnum=3\n",
    "columns=splitQcolumns(Q,colsnum)\n",
    "column=columns[0]\n",
    "show_images([column])"
   ]
  },
  {
   "cell_type": "code",
   "execution_count": 129,
   "id": "a38a252f",
   "metadata": {},
   "outputs": [
    {
     "name": "stdout",
     "output_type": "stream",
     "text": [
      "[1. 2. 3. 3. 2. 1. 1. 2. 3. 3. 3. 2. 2.]\n"
     ]
    }
   ],
   "source": [
    "my_data = np.loadtxt('1.txt', delimiter=\",\", unpack=True)\n",
    "list2= my_data[:]\n",
    "print(list2)"
   ]
  },
  {
   "cell_type": "code",
   "execution_count": 130,
   "id": "c7136e2d",
   "metadata": {},
   "outputs": [
    {
     "name": "stdout",
     "output_type": "stream",
     "text": [
      "[1]\n"
     ]
    }
   ],
   "source": [
    "def getQanswer(colsnum,columns):   \n",
    "    countC=0\n",
    "    countR=0\n",
    "    error=0\n",
    "    summ=0\n",
    "    pixelval=np.zeros((1,colsnum))\n",
    "    for images in columns:\n",
    "        totalpixels=cv2.countNonZero(images)\n",
    "        summ=summ+totalpixels\n",
    "        pixelval[countR][countC]=totalpixels\n",
    "        countC+=1\n",
    "        if(countC == 10):countR+=1;countC=0\n",
    "    \n",
    "    avg=summ/colsnum\n",
    "    \n",
    "    for i in range (colsnum):\n",
    "        if(pixelval[0][i]<(avg-200)):\n",
    "            error=error+1\n",
    "    \n",
    "    arrindex=[]\n",
    "    index=[]\n",
    "    for x in range (0,1):\n",
    "        arr=pixelval[x]\n",
    "        index=np.where(arr==np.amin(arr))\n",
    "        arrindex.append(index[0][0])\n",
    "    \n",
    "    if error>1:\n",
    "        return(\"wrong answer\")\n",
    "    else:\n",
    "        return(arrindex)\n",
    "    \n",
    "answer=getQanswer(colsnum,columns)\n",
    "print(answer)"
   ]
  },
  {
   "cell_type": "code",
   "execution_count": 131,
   "id": "25ae5f05",
   "metadata": {},
   "outputs": [
    {
     "name": "stdout",
     "output_type": "stream",
     "text": [
      "10\n",
      "[0, 1, 1, 1, 1, 1, 1, 1, 1, 1, 0, 0, 1]\n"
     ]
    }
   ],
   "source": [
    "quesarr=[]\n",
    "quesnum=13\n",
    "score=0\n",
    "for i in range (quesnum): \n",
    "    ques=getQuestionRegion(img_warp, index = i,mcq=3)\n",
    "    columns=splitQcolumns(ques,colsnum)\n",
    "    answer1=getQanswer(colsnum,columns)\n",
    "    answer=answer1[0]+1\n",
    "    if(answer==list2[i]):\n",
    "        score=score+1\n",
    "        quesarr.insert(i,1)\n",
    "    else:\n",
    "        quesarr.insert(i,0)\n",
    "\n",
    "print(score)\n",
    "print(quesarr)"
   ]
  },
  {
   "cell_type": "code",
   "execution_count": 132,
   "id": "09ea53f1",
   "metadata": {},
   "outputs": [
    {
     "name": "stdout",
     "output_type": "stream",
     "text": [
      "    0\n",
      "0   0\n",
      "1   1\n",
      "2   1\n",
      "3   1\n",
      "4   1\n",
      "5   1\n",
      "6   1\n",
      "7   1\n",
      "8   1\n",
      "9   1\n",
      "10  0\n",
      "11  0\n",
      "12  1\n"
     ]
    }
   ],
   "source": [
    "cell_list=quesarr\n",
    "arr = np.array(cell_list)\n",
    "dataframe = pd.DataFrame(arr)\n",
    "print(dataframe)\n",
    "data = dataframe.style.set_properties(align=\"left\")\n",
    "# Converting it in a excel-file\n",
    "data.to_excel(r\"C:\\Users\\lenovo\\Desktop\\image2\\book1.xlsx\",index=None,header=\"code\")    "
   ]
  },
  {
   "cell_type": "code",
   "execution_count": null,
   "id": "7599a387",
   "metadata": {},
   "outputs": [],
   "source": []
  },
  {
   "cell_type": "code",
   "execution_count": null,
   "id": "e471adfa",
   "metadata": {},
   "outputs": [],
   "source": []
  }
 ],
 "metadata": {
  "kernelspec": {
   "display_name": "Python 3 (ipykernel)",
   "language": "python",
   "name": "python3"
  },
  "language_info": {
   "codemirror_mode": {
    "name": "ipython",
    "version": 3
   },
   "file_extension": ".py",
   "mimetype": "text/x-python",
   "name": "python",
   "nbconvert_exporter": "python",
   "pygments_lexer": "ipython3",
   "version": "3.9.12"
  }
 },
 "nbformat": 4,
 "nbformat_minor": 5
}
